{
 "cells": [
  {
   "cell_type": "markdown",
   "id": "26c5ba1f",
   "metadata": {
    "vscode": {
     "languageId": "plaintext"
    }
   },
   "source": [
    "# Promotional campaign\n",
    "\n"
   ]
  },
  {
   "cell_type": "markdown",
   "id": "c80d45e9",
   "metadata": {},
   "source": [
    "# Task-1"
   ]
  },
  {
   "cell_type": "code",
   "execution_count": 1,
   "id": "9c98bb83",
   "metadata": {},
   "outputs": [],
   "source": [
    "import pandas as pd\n",
    "import numpy as np\n"
   ]
  },
  {
   "cell_type": "code",
   "execution_count": 2,
   "id": "b9c2009e",
   "metadata": {},
   "outputs": [],
   "source": [
    "df_campaign = pd.read_csv(\"datasets/dim_campaigns.csv\")\n",
    "df_product = pd.read_csv(\"datasets/dim_products.csv\")\n",
    "df_stores = pd.read_csv(\"datasets/dim_stores.csv\")\n",
    "df_events = pd.read_csv(\"datasets/fact_events.csv\")"
   ]
  },
  {
   "cell_type": "code",
   "execution_count": 3,
   "id": "43bdad0f",
   "metadata": {},
   "outputs": [
    {
     "data": {
      "text/html": [
       "<div>\n",
       "<style scoped>\n",
       "    .dataframe tbody tr th:only-of-type {\n",
       "        vertical-align: middle;\n",
       "    }\n",
       "\n",
       "    .dataframe tbody tr th {\n",
       "        vertical-align: top;\n",
       "    }\n",
       "\n",
       "    .dataframe thead th {\n",
       "        text-align: right;\n",
       "    }\n",
       "</style>\n",
       "<table border=\"1\" class=\"dataframe\">\n",
       "  <thead>\n",
       "    <tr style=\"text-align: right;\">\n",
       "      <th></th>\n",
       "      <th>campaign_id</th>\n",
       "      <th>campaign_name</th>\n",
       "      <th>start_date</th>\n",
       "      <th>end_date</th>\n",
       "    </tr>\n",
       "  </thead>\n",
       "  <tbody>\n",
       "    <tr>\n",
       "      <th>0</th>\n",
       "      <td>CAMP_DIW_01</td>\n",
       "      <td>Diwali</td>\n",
       "      <td>12-11-2023</td>\n",
       "      <td>18-11-2023</td>\n",
       "    </tr>\n",
       "    <tr>\n",
       "      <th>1</th>\n",
       "      <td>CAMP_SAN_01</td>\n",
       "      <td>Sankranti</td>\n",
       "      <td>10-01-2024</td>\n",
       "      <td>16-01-2024</td>\n",
       "    </tr>\n",
       "  </tbody>\n",
       "</table>\n",
       "</div>"
      ],
      "text/plain": [
       "   campaign_id campaign_name  start_date    end_date\n",
       "0  CAMP_DIW_01        Diwali  12-11-2023  18-11-2023\n",
       "1  CAMP_SAN_01     Sankranti  10-01-2024  16-01-2024"
      ]
     },
     "execution_count": 3,
     "metadata": {},
     "output_type": "execute_result"
    }
   ],
   "source": [
    "## Campaigns Name\n",
    "df_campaign.head()"
   ]
  },
  {
   "cell_type": "code",
   "execution_count": 4,
   "id": "eaee9781",
   "metadata": {},
   "outputs": [
    {
     "data": {
      "text/plain": [
       "(2, 4)"
      ]
     },
     "execution_count": 4,
     "metadata": {},
     "output_type": "execute_result"
    }
   ],
   "source": [
    "df_campaign.shape"
   ]
  },
  {
   "cell_type": "code",
   "execution_count": 5,
   "id": "e4f89a20",
   "metadata": {},
   "outputs": [
    {
     "data": {
      "text/html": [
       "<div>\n",
       "<style scoped>\n",
       "    .dataframe tbody tr th:only-of-type {\n",
       "        vertical-align: middle;\n",
       "    }\n",
       "\n",
       "    .dataframe tbody tr th {\n",
       "        vertical-align: top;\n",
       "    }\n",
       "\n",
       "    .dataframe thead th {\n",
       "        text-align: right;\n",
       "    }\n",
       "</style>\n",
       "<table border=\"1\" class=\"dataframe\">\n",
       "  <thead>\n",
       "    <tr style=\"text-align: right;\">\n",
       "      <th></th>\n",
       "      <th>product_code</th>\n",
       "      <th>product_name</th>\n",
       "      <th>category</th>\n",
       "    </tr>\n",
       "  </thead>\n",
       "  <tbody>\n",
       "    <tr>\n",
       "      <th>0</th>\n",
       "      <td>P01</td>\n",
       "      <td>Atliq_Masoor_Dal (1KG)</td>\n",
       "      <td>Grocery &amp; Staples</td>\n",
       "    </tr>\n",
       "    <tr>\n",
       "      <th>1</th>\n",
       "      <td>P02</td>\n",
       "      <td>Atliq_Sonamasuri_Rice (10KG)</td>\n",
       "      <td>Grocery &amp; Staples</td>\n",
       "    </tr>\n",
       "    <tr>\n",
       "      <th>2</th>\n",
       "      <td>P03</td>\n",
       "      <td>Atliq_Suflower_Oil (1L)</td>\n",
       "      <td>Grocery &amp; Staples</td>\n",
       "    </tr>\n",
       "    <tr>\n",
       "      <th>3</th>\n",
       "      <td>P04</td>\n",
       "      <td>Atliq_Farm_Chakki_Atta (1KG)</td>\n",
       "      <td>Grocery &amp; Staples</td>\n",
       "    </tr>\n",
       "    <tr>\n",
       "      <th>4</th>\n",
       "      <td>P05</td>\n",
       "      <td>Atliq_Scrub_Sponge_For_Dishwash</td>\n",
       "      <td>Home Care</td>\n",
       "    </tr>\n",
       "  </tbody>\n",
       "</table>\n",
       "</div>"
      ],
      "text/plain": [
       "  product_code                     product_name           category\n",
       "0          P01           Atliq_Masoor_Dal (1KG)  Grocery & Staples\n",
       "1          P02     Atliq_Sonamasuri_Rice (10KG)  Grocery & Staples\n",
       "2          P03          Atliq_Suflower_Oil (1L)  Grocery & Staples\n",
       "3          P04     Atliq_Farm_Chakki_Atta (1KG)  Grocery & Staples\n",
       "4          P05  Atliq_Scrub_Sponge_For_Dishwash          Home Care"
      ]
     },
     "execution_count": 5,
     "metadata": {},
     "output_type": "execute_result"
    }
   ],
   "source": [
    "## Product Details\n",
    "df_product.head()"
   ]
  },
  {
   "cell_type": "code",
   "execution_count": 6,
   "id": "9681f33c",
   "metadata": {},
   "outputs": [
    {
     "data": {
      "text/html": [
       "<div>\n",
       "<style scoped>\n",
       "    .dataframe tbody tr th:only-of-type {\n",
       "        vertical-align: middle;\n",
       "    }\n",
       "\n",
       "    .dataframe tbody tr th {\n",
       "        vertical-align: top;\n",
       "    }\n",
       "\n",
       "    .dataframe thead th {\n",
       "        text-align: right;\n",
       "    }\n",
       "</style>\n",
       "<table border=\"1\" class=\"dataframe\">\n",
       "  <thead>\n",
       "    <tr style=\"text-align: right;\">\n",
       "      <th></th>\n",
       "      <th>store_id</th>\n",
       "      <th>city</th>\n",
       "    </tr>\n",
       "  </thead>\n",
       "  <tbody>\n",
       "    <tr>\n",
       "      <th>0</th>\n",
       "      <td>STTRV-0</td>\n",
       "      <td>Trivandrum</td>\n",
       "    </tr>\n",
       "    <tr>\n",
       "      <th>1</th>\n",
       "      <td>STMDU-3</td>\n",
       "      <td>Madurai</td>\n",
       "    </tr>\n",
       "    <tr>\n",
       "      <th>2</th>\n",
       "      <td>STHYD-6</td>\n",
       "      <td>Hyderabad</td>\n",
       "    </tr>\n",
       "    <tr>\n",
       "      <th>3</th>\n",
       "      <td>STVSK-1</td>\n",
       "      <td>Visakhapatnam</td>\n",
       "    </tr>\n",
       "    <tr>\n",
       "      <th>4</th>\n",
       "      <td>STCBE-3</td>\n",
       "      <td>Coimbatore</td>\n",
       "    </tr>\n",
       "  </tbody>\n",
       "</table>\n",
       "</div>"
      ],
      "text/plain": [
       "  store_id           city\n",
       "0  STTRV-0     Trivandrum\n",
       "1  STMDU-3        Madurai\n",
       "2  STHYD-6      Hyderabad\n",
       "3  STVSK-1  Visakhapatnam\n",
       "4  STCBE-3     Coimbatore"
      ]
     },
     "execution_count": 6,
     "metadata": {},
     "output_type": "execute_result"
    }
   ],
   "source": [
    "## Store Details\n",
    "df_stores.head()"
   ]
  },
  {
   "cell_type": "code",
   "execution_count": 7,
   "id": "00e4deb7",
   "metadata": {},
   "outputs": [
    {
     "data": {
      "text/html": [
       "<div>\n",
       "<style scoped>\n",
       "    .dataframe tbody tr th:only-of-type {\n",
       "        vertical-align: middle;\n",
       "    }\n",
       "\n",
       "    .dataframe tbody tr th {\n",
       "        vertical-align: top;\n",
       "    }\n",
       "\n",
       "    .dataframe thead th {\n",
       "        text-align: right;\n",
       "    }\n",
       "</style>\n",
       "<table border=\"1\" class=\"dataframe\">\n",
       "  <thead>\n",
       "    <tr style=\"text-align: right;\">\n",
       "      <th></th>\n",
       "      <th>event_id</th>\n",
       "      <th>store_id</th>\n",
       "      <th>campaign_id</th>\n",
       "      <th>product_code</th>\n",
       "      <th>base_price(before_promo)</th>\n",
       "      <th>quantity_sold(before_promo)</th>\n",
       "      <th>promo_type</th>\n",
       "      <th>base_price(after_promo)</th>\n",
       "      <th>quantity_sold(after_promo)</th>\n",
       "    </tr>\n",
       "  </thead>\n",
       "  <tbody>\n",
       "    <tr>\n",
       "      <th>0</th>\n",
       "      <td>8481be</td>\n",
       "      <td>STCHE-1</td>\n",
       "      <td>CAMP_DIW_01</td>\n",
       "      <td>P04</td>\n",
       "      <td>290</td>\n",
       "      <td>327.0</td>\n",
       "      <td>25% OFF</td>\n",
       "      <td>217</td>\n",
       "      <td>287</td>\n",
       "    </tr>\n",
       "    <tr>\n",
       "      <th>1</th>\n",
       "      <td>20618e</td>\n",
       "      <td>STCHE-3</td>\n",
       "      <td>CAMP_SAN_01</td>\n",
       "      <td>P04</td>\n",
       "      <td>370</td>\n",
       "      <td>379.0</td>\n",
       "      <td>BOGOF</td>\n",
       "      <td>185</td>\n",
       "      <td>1622</td>\n",
       "    </tr>\n",
       "    <tr>\n",
       "      <th>2</th>\n",
       "      <td>f30579</td>\n",
       "      <td>STBLR-9</td>\n",
       "      <td>CAMP_DIW_01</td>\n",
       "      <td>P02</td>\n",
       "      <td>860</td>\n",
       "      <td>337.0</td>\n",
       "      <td>33% OFF</td>\n",
       "      <td>576</td>\n",
       "      <td>488</td>\n",
       "    </tr>\n",
       "    <tr>\n",
       "      <th>3</th>\n",
       "      <td>4f570c</td>\n",
       "      <td>STBLR-7</td>\n",
       "      <td>CAMP_DIW_01</td>\n",
       "      <td>P05</td>\n",
       "      <td>55</td>\n",
       "      <td>122.0</td>\n",
       "      <td>25% OFF</td>\n",
       "      <td>41</td>\n",
       "      <td>107</td>\n",
       "    </tr>\n",
       "    <tr>\n",
       "      <th>4</th>\n",
       "      <td>6d153f</td>\n",
       "      <td>STHYD-5</td>\n",
       "      <td>CAMP_SAN_01</td>\n",
       "      <td>P15</td>\n",
       "      <td>3000</td>\n",
       "      <td>122.0</td>\n",
       "      <td>500 Cashback</td>\n",
       "      <td>2500</td>\n",
       "      <td>272</td>\n",
       "    </tr>\n",
       "  </tbody>\n",
       "</table>\n",
       "</div>"
      ],
      "text/plain": [
       "  event_id store_id  campaign_id product_code  base_price(before_promo)  \\\n",
       "0   8481be  STCHE-1  CAMP_DIW_01          P04                       290   \n",
       "1   20618e  STCHE-3  CAMP_SAN_01          P04                       370   \n",
       "2   f30579  STBLR-9  CAMP_DIW_01          P02                       860   \n",
       "3   4f570c  STBLR-7  CAMP_DIW_01          P05                        55   \n",
       "4   6d153f  STHYD-5  CAMP_SAN_01          P15                      3000   \n",
       "\n",
       "   quantity_sold(before_promo)    promo_type  base_price(after_promo)  \\\n",
       "0                        327.0       25% OFF                      217   \n",
       "1                        379.0         BOGOF                      185   \n",
       "2                        337.0       33% OFF                      576   \n",
       "3                        122.0       25% OFF                       41   \n",
       "4                        122.0  500 Cashback                     2500   \n",
       "\n",
       "   quantity_sold(after_promo)  \n",
       "0                         287  \n",
       "1                        1622  \n",
       "2                         488  \n",
       "3                         107  \n",
       "4                         272  "
      ]
     },
     "execution_count": 7,
     "metadata": {},
     "output_type": "execute_result"
    }
   ],
   "source": [
    "## Event Details\n",
    "df_events.head()"
   ]
  },
  {
   "cell_type": "code",
   "execution_count": 8,
   "id": "5b92202a",
   "metadata": {},
   "outputs": [
    {
     "name": "stdout",
     "output_type": "stream",
     "text": [
      "(2, 4)\n",
      "(15, 3)\n",
      "(50, 2)\n",
      "(1510, 9)\n"
     ]
    }
   ],
   "source": [
    "print(df_campaign.shape)\n",
    "print(df_product.shape)\n",
    "print(df_stores.shape)\n",
    "print(df_events.shape)"
   ]
  },
  {
   "cell_type": "code",
   "execution_count": 9,
   "id": "ba4fe90e",
   "metadata": {},
   "outputs": [
    {
     "data": {
      "text/html": [
       "<div>\n",
       "<style scoped>\n",
       "    .dataframe tbody tr th:only-of-type {\n",
       "        vertical-align: middle;\n",
       "    }\n",
       "\n",
       "    .dataframe tbody tr th {\n",
       "        vertical-align: top;\n",
       "    }\n",
       "\n",
       "    .dataframe thead th {\n",
       "        text-align: right;\n",
       "    }\n",
       "</style>\n",
       "<table border=\"1\" class=\"dataframe\">\n",
       "  <thead>\n",
       "    <tr style=\"text-align: right;\">\n",
       "      <th></th>\n",
       "      <th>event_id</th>\n",
       "      <th>store_id</th>\n",
       "      <th>campaign_id</th>\n",
       "      <th>product_code</th>\n",
       "      <th>base_price(before_promo)</th>\n",
       "      <th>quantity_sold(before_promo)</th>\n",
       "      <th>promo_type</th>\n",
       "      <th>base_price(after_promo)</th>\n",
       "      <th>quantity_sold(after_promo)</th>\n",
       "      <th>campaign_name</th>\n",
       "      <th>start_date</th>\n",
       "      <th>end_date</th>\n",
       "      <th>product_name</th>\n",
       "      <th>category</th>\n",
       "      <th>city</th>\n",
       "    </tr>\n",
       "  </thead>\n",
       "  <tbody>\n",
       "    <tr>\n",
       "      <th>0</th>\n",
       "      <td>8481be</td>\n",
       "      <td>STCHE-1</td>\n",
       "      <td>CAMP_DIW_01</td>\n",
       "      <td>P04</td>\n",
       "      <td>290</td>\n",
       "      <td>327.0</td>\n",
       "      <td>25% OFF</td>\n",
       "      <td>217</td>\n",
       "      <td>287</td>\n",
       "      <td>Diwali</td>\n",
       "      <td>12-11-2023</td>\n",
       "      <td>18-11-2023</td>\n",
       "      <td>Atliq_Farm_Chakki_Atta (1KG)</td>\n",
       "      <td>Grocery &amp; Staples</td>\n",
       "      <td>Chennai</td>\n",
       "    </tr>\n",
       "    <tr>\n",
       "      <th>1</th>\n",
       "      <td>20618e</td>\n",
       "      <td>STCHE-3</td>\n",
       "      <td>CAMP_SAN_01</td>\n",
       "      <td>P04</td>\n",
       "      <td>370</td>\n",
       "      <td>379.0</td>\n",
       "      <td>BOGOF</td>\n",
       "      <td>185</td>\n",
       "      <td>1622</td>\n",
       "      <td>Sankranti</td>\n",
       "      <td>10-01-2024</td>\n",
       "      <td>16-01-2024</td>\n",
       "      <td>Atliq_Farm_Chakki_Atta (1KG)</td>\n",
       "      <td>Grocery &amp; Staples</td>\n",
       "      <td>Chennai</td>\n",
       "    </tr>\n",
       "    <tr>\n",
       "      <th>2</th>\n",
       "      <td>f30579</td>\n",
       "      <td>STBLR-9</td>\n",
       "      <td>CAMP_DIW_01</td>\n",
       "      <td>P02</td>\n",
       "      <td>860</td>\n",
       "      <td>337.0</td>\n",
       "      <td>33% OFF</td>\n",
       "      <td>576</td>\n",
       "      <td>488</td>\n",
       "      <td>Diwali</td>\n",
       "      <td>12-11-2023</td>\n",
       "      <td>18-11-2023</td>\n",
       "      <td>Atliq_Sonamasuri_Rice (10KG)</td>\n",
       "      <td>Grocery &amp; Staples</td>\n",
       "      <td>Bengaluru</td>\n",
       "    </tr>\n",
       "    <tr>\n",
       "      <th>3</th>\n",
       "      <td>4f570c</td>\n",
       "      <td>STBLR-7</td>\n",
       "      <td>CAMP_DIW_01</td>\n",
       "      <td>P05</td>\n",
       "      <td>55</td>\n",
       "      <td>122.0</td>\n",
       "      <td>25% OFF</td>\n",
       "      <td>41</td>\n",
       "      <td>107</td>\n",
       "      <td>Diwali</td>\n",
       "      <td>12-11-2023</td>\n",
       "      <td>18-11-2023</td>\n",
       "      <td>Atliq_Scrub_Sponge_For_Dishwash</td>\n",
       "      <td>Home Care</td>\n",
       "      <td>Bengaluru</td>\n",
       "    </tr>\n",
       "    <tr>\n",
       "      <th>4</th>\n",
       "      <td>6d153f</td>\n",
       "      <td>STHYD-5</td>\n",
       "      <td>CAMP_SAN_01</td>\n",
       "      <td>P15</td>\n",
       "      <td>3000</td>\n",
       "      <td>122.0</td>\n",
       "      <td>500 Cashback</td>\n",
       "      <td>2500</td>\n",
       "      <td>272</td>\n",
       "      <td>Sankranti</td>\n",
       "      <td>10-01-2024</td>\n",
       "      <td>16-01-2024</td>\n",
       "      <td>Atliq_Home_Essential_8_Product_Combo</td>\n",
       "      <td>Combo1</td>\n",
       "      <td>Hyderabad</td>\n",
       "    </tr>\n",
       "  </tbody>\n",
       "</table>\n",
       "</div>"
      ],
      "text/plain": [
       "  event_id store_id  campaign_id product_code  base_price(before_promo)  \\\n",
       "0   8481be  STCHE-1  CAMP_DIW_01          P04                       290   \n",
       "1   20618e  STCHE-3  CAMP_SAN_01          P04                       370   \n",
       "2   f30579  STBLR-9  CAMP_DIW_01          P02                       860   \n",
       "3   4f570c  STBLR-7  CAMP_DIW_01          P05                        55   \n",
       "4   6d153f  STHYD-5  CAMP_SAN_01          P15                      3000   \n",
       "\n",
       "   quantity_sold(before_promo)    promo_type  base_price(after_promo)  \\\n",
       "0                        327.0       25% OFF                      217   \n",
       "1                        379.0         BOGOF                      185   \n",
       "2                        337.0       33% OFF                      576   \n",
       "3                        122.0       25% OFF                       41   \n",
       "4                        122.0  500 Cashback                     2500   \n",
       "\n",
       "   quantity_sold(after_promo) campaign_name  start_date    end_date  \\\n",
       "0                         287        Diwali  12-11-2023  18-11-2023   \n",
       "1                        1622     Sankranti  10-01-2024  16-01-2024   \n",
       "2                         488        Diwali  12-11-2023  18-11-2023   \n",
       "3                         107        Diwali  12-11-2023  18-11-2023   \n",
       "4                         272     Sankranti  10-01-2024  16-01-2024   \n",
       "\n",
       "                           product_name           category       city  \n",
       "0          Atliq_Farm_Chakki_Atta (1KG)  Grocery & Staples    Chennai  \n",
       "1          Atliq_Farm_Chakki_Atta (1KG)  Grocery & Staples    Chennai  \n",
       "2          Atliq_Sonamasuri_Rice (10KG)  Grocery & Staples  Bengaluru  \n",
       "3       Atliq_Scrub_Sponge_For_Dishwash          Home Care  Bengaluru  \n",
       "4  Atliq_Home_Essential_8_Product_Combo             Combo1  Hyderabad  "
      ]
     },
     "execution_count": 9,
     "metadata": {},
     "output_type": "execute_result"
    }
   ],
   "source": [
    "merge_df = df_events.merge(df_campaign, on='campaign_id', how='left')\n",
    "merge_df = merge_df.merge(df_product, on='product_code', how='left')\n",
    "merge_df = merge_df.merge(df_stores, on='store_id', how='left')\n",
    "merge_df.head()\n"
   ]
  },
  {
   "cell_type": "code",
   "execution_count": 10,
   "id": "71cd4da9",
   "metadata": {},
   "outputs": [
    {
     "data": {
      "text/plain": [
       "(1510, 15)"
      ]
     },
     "execution_count": 10,
     "metadata": {},
     "output_type": "execute_result"
    }
   ],
   "source": [
    "merge_df.shape"
   ]
  },
  {
   "cell_type": "code",
   "execution_count": 11,
   "id": "dbd9e56c",
   "metadata": {},
   "outputs": [
    {
     "data": {
      "text/plain": [
       "event_id                        0\n",
       "store_id                        0\n",
       "campaign_id                     0\n",
       "product_code                    0\n",
       "base_price(before_promo)        0\n",
       "quantity_sold(before_promo)    20\n",
       "promo_type                      0\n",
       "base_price(after_promo)         0\n",
       "quantity_sold(after_promo)      0\n",
       "campaign_name                   0\n",
       "start_date                      0\n",
       "end_date                        0\n",
       "product_name                    0\n",
       "category                        0\n",
       "city                            0\n",
       "dtype: int64"
      ]
     },
     "execution_count": 11,
     "metadata": {},
     "output_type": "execute_result"
    }
   ],
   "source": [
    "merge_df.isna().sum()"
   ]
  },
  {
   "cell_type": "markdown",
   "id": "d68ccfaa",
   "metadata": {},
   "source": [
    "**1. The operations team wants to ensure the integrity of the events data by removing duplicates. Check for and remove duplicate rows in the events dataframe based on store_id, campaign_id, and product_code. How many duplicate rows were removed?**"
   ]
  },
  {
   "cell_type": "code",
   "execution_count": 12,
   "id": "a9036f7b",
   "metadata": {},
   "outputs": [
    {
     "data": {
      "text/plain": [
       "(10, 15)"
      ]
     },
     "execution_count": 12,
     "metadata": {},
     "output_type": "execute_result"
    }
   ],
   "source": [
    "duplicated_value = merge_df[merge_df.duplicated(subset=['store_id', 'campaign_id', 'product_code'])]\n",
    "duplicated_value.shape"
   ]
  },
  {
   "cell_type": "markdown",
   "id": "e099a5ee",
   "metadata": {},
   "source": [
    "**Duplicated values are `10`**"
   ]
  },
  {
   "cell_type": "code",
   "execution_count": 13,
   "id": "f276d98a",
   "metadata": {},
   "outputs": [
    {
     "data": {
      "text/plain": [
       "(1500, 15)"
      ]
     },
     "execution_count": 13,
     "metadata": {},
     "output_type": "execute_result"
    }
   ],
   "source": [
    "merge_df = merge_df.drop_duplicates(subset=['store_id', 'campaign_id', 'product_code'])\n",
    "merge_df.shape"
   ]
  },
  {
   "cell_type": "markdown",
   "id": "7df90ebc",
   "metadata": {},
   "source": [
    "**2. How many cities have more than 5 stores?**"
   ]
  },
  {
   "cell_type": "code",
   "execution_count": 14,
   "id": "2f109f1a",
   "metadata": {},
   "outputs": [
    {
     "name": "stdout",
     "output_type": "stream",
     "text": [
      "city\n",
      "Bengaluru    10\n",
      "Chennai       8\n",
      "Hyderabad     7\n",
      "Name: store_id, dtype: int64\n"
     ]
    }
   ],
   "source": [
    "cities_store_count = merge_df.groupby('city')['store_id'].nunique()\n",
    "cities_with_more_than_5 = cities_store_count[cities_store_count > 5]\n",
    "print(cities_with_more_than_5)"
   ]
  },
  {
   "cell_type": "markdown",
   "id": "a74f5c31",
   "metadata": {},
   "source": [
    "**There are `3` cities having more than 5 store**"
   ]
  },
  {
   "cell_type": "markdown",
   "id": "372ddea0",
   "metadata": {},
   "source": [
    "**3. The sales team has identified missing values in the quantity_sold(before_promo)\n",
    "data. Estimate these values using the median quantity sold before the promotion.\n",
    "How many missing values were filled, and what is the median used for\n",
    "imputation?**"
   ]
  },
  {
   "cell_type": "code",
   "execution_count": 15,
   "id": "c56823b7",
   "metadata": {},
   "outputs": [
    {
     "data": {
      "text/plain": [
       "np.float64(78.0)"
      ]
     },
     "execution_count": 15,
     "metadata": {},
     "output_type": "execute_result"
    }
   ],
   "source": [
    "# 1. Find median (ignores NaN automatically)\n",
    "median_val = merge_df['quantity_sold(before_promo)'].median()\n",
    "median_val"
   ]
  },
  {
   "cell_type": "code",
   "execution_count": 16,
   "id": "ae330df1",
   "metadata": {},
   "outputs": [
    {
     "data": {
      "text/plain": [
       "np.int64(20)"
      ]
     },
     "execution_count": 16,
     "metadata": {},
     "output_type": "execute_result"
    }
   ],
   "source": [
    "# 2. Count missing values\n",
    "missing_count = merge_df['quantity_sold(before_promo)'].isna().sum()\n",
    "missing_count"
   ]
  },
  {
   "cell_type": "code",
   "execution_count": 17,
   "id": "86179c01",
   "metadata": {},
   "outputs": [],
   "source": [
    "merge_df['quantity_sold(before_promo)'] = merge_df['quantity_sold(before_promo)'].fillna(median_val)"
   ]
  },
  {
   "cell_type": "code",
   "execution_count": 18,
   "id": "ece3bd41",
   "metadata": {},
   "outputs": [
    {
     "name": "stdout",
     "output_type": "stream",
     "text": [
      "Median used for imputation: 78.0\n",
      "Number of missing values filled: 20\n"
     ]
    }
   ],
   "source": [
    "\n",
    "print(f\"Median used for imputation: {median_val}\")\n",
    "print(f\"Number of missing values filled: {missing_count}\")"
   ]
  },
  {
   "cell_type": "code",
   "execution_count": 19,
   "id": "3dd90965",
   "metadata": {},
   "outputs": [],
   "source": [
    "merge_df_new = merge_df.copy()"
   ]
  },
  {
   "cell_type": "markdown",
   "id": "ca83319c",
   "metadata": {},
   "source": [
    "**4. Identify the product category with the lowest base price before the promotion**"
   ]
  },
  {
   "cell_type": "code",
   "execution_count": 20,
   "id": "f923f4df",
   "metadata": {},
   "outputs": [
    {
     "name": "stdout",
     "output_type": "stream",
     "text": [
      "Product category with the lowest base price before the promotion: Personal Care\n"
     ]
    }
   ],
   "source": [
    "product_category_base_price = merge_df.groupby('category')['base_price(before_promo)'].sum()\n",
    "product_category_low_base_price = product_category_base_price.idxmin()\n",
    "print(f\"Product category with the lowest base price before the promotion: {product_category_low_base_price}\")"
   ]
  },
  {
   "cell_type": "markdown",
   "id": "6790197f",
   "metadata": {},
   "source": [
    "**5. What is the total quantity sold after the promotion for the BOGOF promo type\n",
    "during the Diwali campaign?**"
   ]
  },
  {
   "cell_type": "code",
   "execution_count": 21,
   "id": "d8d49d24",
   "metadata": {},
   "outputs": [
    {
     "name": "stdout",
     "output_type": "stream",
     "text": [
      "Total quantity sold after the promotion for BOGOF promo type during Diwali campaign: 34461\n"
     ]
    }
   ],
   "source": [
    "total_quantity_bogof_diwali = merge_df['quantity_sold(after_promo)'].where(\n",
    "    (merge_df['promo_type'] == 'BOGOF') & (merge_df['campaign_name'] == 'Diwali'), 0).sum()\n",
    "print(f\"Total quantity sold after the promotion for BOGOF promo type during Diwali campaign: {total_quantity_bogof_diwali}\")"
   ]
  },
  {
   "cell_type": "markdown",
   "id": "daae25ca",
   "metadata": {},
   "source": [
    "**6. Which store recorded the highest quantity sold after the promotion during the\n",
    "Diwali campaign?**"
   ]
  },
  {
   "cell_type": "code",
   "execution_count": 22,
   "id": "22c0ee31",
   "metadata": {},
   "outputs": [
    {
     "name": "stdout",
     "output_type": "stream",
     "text": [
      "Store with the highest quantity sold after the promotion: STCHE-4\n"
     ]
    }
   ],
   "source": [
    "store_record_highest_qty_sold = merge_df.loc[merge_df['quantity_sold(after_promo)'][merge_df['campaign_name'] == 'Diwali'].idxmax()]\n",
    "store_name = store_record_highest_qty_sold['store_id']\n",
    "print(f\"Store with the highest quantity sold after the promotion: {store_name}\")"
   ]
  },
  {
   "cell_type": "markdown",
   "id": "4b1c59b8",
   "metadata": {},
   "source": [
    "**7. Understand which campaigns had the most successful outcomes. Compare the\n",
    "total quantities sold before and after the promotions for the Sankranti and Diwali\n",
    "campaigns. Which campaign saw a greater increase in sales?**"
   ]
  },
  {
   "cell_type": "code",
   "execution_count": 23,
   "id": "89653634",
   "metadata": {},
   "outputs": [
    {
     "name": "stdout",
     "output_type": "stream",
     "text": [
      "Sankranti campaign saw a greater increase in sales with increase of 154175.0\n"
     ]
    }
   ],
   "source": [
    "total_qty_sold_before_promo_sankranti = merge_df[merge_df['campaign_name'] == 'Sankranti']['quantity_sold(before_promo)'].sum()\n",
    "total_qty_sold_before_promo_diwali = merge_df[merge_df['campaign_name'] == 'Diwali']['quantity_sold(before_promo)'].sum()\n",
    "total_qty_sold_after_promo_sankranti = merge_df[merge_df['campaign_name'] == 'Sankranti']['quantity_sold(after_promo)'].sum()\n",
    "total_qty_sold_after_promo_diwali = merge_df[merge_df['campaign_name'] == 'Diwali']['quantity_sold(after_promo)'].sum()\n",
    "increase_sankranti = total_qty_sold_after_promo_sankranti - total_qty_sold_before_promo_sankranti\n",
    "increase_diwali = total_qty_sold_after_promo_diwali - total_qty_sold_before_promo_diwali\n",
    "if increase_sankranti > increase_diwali:\n",
    "    print(\"Sankranti campaign saw a greater increase in sales with increase of\", increase_sankranti)\n",
    "elif increase_diwali > increase_sankranti:\n",
    "    print(\"Diwali campaign saw a greater increase in sales with increase of\", increase_diwali)   "
   ]
  },
  {
   "cell_type": "markdown",
   "id": "844c5693",
   "metadata": {},
   "source": [
    "**8. Which product recorded the highest Incremental Revenue Percentage (IR%)\n",
    "during the Sankranti campaign? What is the IR% for this product?**\n",
    "\n",
    "step 1: Define Increamental Revenue(IR)\n",
    "\n",
    "    IR = Revenue after promo - Revenue before promo\n",
    "    where,\n",
    "            Revenue before promo = base_price(before_promo) × quantity_sold(before_promo)\n",
    "            Revenue after promo = base_price(after_promo) × quantity_sold(after_promo)\n",
    "\n",
    "step 2: Define Incremental Revenue Percentage (IR%)\n",
    "    IR% = (IR/Revenue before promo)*100\n",
    "\n",
    "step 3. Filter data for Sankranti campaign.\n",
    "\n",
    "step 4. Compute IR% per product"
   ]
  },
  {
   "cell_type": "code",
   "execution_count": 24,
   "id": "ce6a1768",
   "metadata": {},
   "outputs": [
    {
     "data": {
      "text/html": [
       "<div>\n",
       "<style scoped>\n",
       "    .dataframe tbody tr th:only-of-type {\n",
       "        vertical-align: middle;\n",
       "    }\n",
       "\n",
       "    .dataframe tbody tr th {\n",
       "        vertical-align: top;\n",
       "    }\n",
       "\n",
       "    .dataframe thead th {\n",
       "        text-align: right;\n",
       "    }\n",
       "</style>\n",
       "<table border=\"1\" class=\"dataframe\">\n",
       "  <thead>\n",
       "    <tr style=\"text-align: right;\">\n",
       "      <th></th>\n",
       "      <th>event_id</th>\n",
       "      <th>store_id</th>\n",
       "      <th>campaign_id</th>\n",
       "      <th>product_code</th>\n",
       "      <th>base_price(before_promo)</th>\n",
       "      <th>quantity_sold(before_promo)</th>\n",
       "      <th>promo_type</th>\n",
       "      <th>base_price(after_promo)</th>\n",
       "      <th>quantity_sold(after_promo)</th>\n",
       "      <th>campaign_name</th>\n",
       "      <th>start_date</th>\n",
       "      <th>end_date</th>\n",
       "      <th>product_name</th>\n",
       "      <th>category</th>\n",
       "      <th>city</th>\n",
       "    </tr>\n",
       "  </thead>\n",
       "  <tbody>\n",
       "    <tr>\n",
       "      <th>1</th>\n",
       "      <td>20618e</td>\n",
       "      <td>STCHE-3</td>\n",
       "      <td>CAMP_SAN_01</td>\n",
       "      <td>P04</td>\n",
       "      <td>370</td>\n",
       "      <td>379.0</td>\n",
       "      <td>BOGOF</td>\n",
       "      <td>185</td>\n",
       "      <td>1622</td>\n",
       "      <td>Sankranti</td>\n",
       "      <td>10-01-2024</td>\n",
       "      <td>16-01-2024</td>\n",
       "      <td>Atliq_Farm_Chakki_Atta (1KG)</td>\n",
       "      <td>Grocery &amp; Staples</td>\n",
       "      <td>Chennai</td>\n",
       "    </tr>\n",
       "    <tr>\n",
       "      <th>4</th>\n",
       "      <td>6d153f</td>\n",
       "      <td>STHYD-5</td>\n",
       "      <td>CAMP_SAN_01</td>\n",
       "      <td>P15</td>\n",
       "      <td>3000</td>\n",
       "      <td>122.0</td>\n",
       "      <td>500 Cashback</td>\n",
       "      <td>2500</td>\n",
       "      <td>272</td>\n",
       "      <td>Sankranti</td>\n",
       "      <td>10-01-2024</td>\n",
       "      <td>16-01-2024</td>\n",
       "      <td>Atliq_Home_Essential_8_Product_Combo</td>\n",
       "      <td>Combo1</td>\n",
       "      <td>Hyderabad</td>\n",
       "    </tr>\n",
       "    <tr>\n",
       "      <th>7</th>\n",
       "      <td>6.88E+10</td>\n",
       "      <td>STVJD-0</td>\n",
       "      <td>CAMP_SAN_01</td>\n",
       "      <td>P08</td>\n",
       "      <td>1190</td>\n",
       "      <td>22.0</td>\n",
       "      <td>BOGOF</td>\n",
       "      <td>595</td>\n",
       "      <td>88</td>\n",
       "      <td>Sankranti</td>\n",
       "      <td>10-01-2024</td>\n",
       "      <td>16-01-2024</td>\n",
       "      <td>Atliq_Double_Bedsheet_set</td>\n",
       "      <td>Home Care</td>\n",
       "      <td>Vijayawada</td>\n",
       "    </tr>\n",
       "    <tr>\n",
       "      <th>10</th>\n",
       "      <td>a7fecb</td>\n",
       "      <td>STBLR-1</td>\n",
       "      <td>CAMP_SAN_01</td>\n",
       "      <td>P03</td>\n",
       "      <td>200</td>\n",
       "      <td>361.0</td>\n",
       "      <td>BOGOF</td>\n",
       "      <td>100</td>\n",
       "      <td>963</td>\n",
       "      <td>Sankranti</td>\n",
       "      <td>10-01-2024</td>\n",
       "      <td>16-01-2024</td>\n",
       "      <td>Atliq_Suflower_Oil (1L)</td>\n",
       "      <td>Grocery &amp; Staples</td>\n",
       "      <td>Bengaluru</td>\n",
       "    </tr>\n",
       "    <tr>\n",
       "      <th>11</th>\n",
       "      <td>d04bc1</td>\n",
       "      <td>STCBE-0</td>\n",
       "      <td>CAMP_SAN_01</td>\n",
       "      <td>P09</td>\n",
       "      <td>90</td>\n",
       "      <td>49.0</td>\n",
       "      <td>25% OFF</td>\n",
       "      <td>67</td>\n",
       "      <td>46</td>\n",
       "      <td>Sankranti</td>\n",
       "      <td>10-01-2024</td>\n",
       "      <td>16-01-2024</td>\n",
       "      <td>Atliq_Body_Milk_Nourishing_Lotion (120ML)</td>\n",
       "      <td>Personal Care</td>\n",
       "      <td>Coimbatore</td>\n",
       "    </tr>\n",
       "  </tbody>\n",
       "</table>\n",
       "</div>"
      ],
      "text/plain": [
       "    event_id store_id  campaign_id product_code  base_price(before_promo)  \\\n",
       "1     20618e  STCHE-3  CAMP_SAN_01          P04                       370   \n",
       "4     6d153f  STHYD-5  CAMP_SAN_01          P15                      3000   \n",
       "7   6.88E+10  STVJD-0  CAMP_SAN_01          P08                      1190   \n",
       "10    a7fecb  STBLR-1  CAMP_SAN_01          P03                       200   \n",
       "11    d04bc1  STCBE-0  CAMP_SAN_01          P09                        90   \n",
       "\n",
       "    quantity_sold(before_promo)    promo_type  base_price(after_promo)  \\\n",
       "1                         379.0         BOGOF                      185   \n",
       "4                         122.0  500 Cashback                     2500   \n",
       "7                          22.0         BOGOF                      595   \n",
       "10                        361.0         BOGOF                      100   \n",
       "11                         49.0       25% OFF                       67   \n",
       "\n",
       "    quantity_sold(after_promo) campaign_name  start_date    end_date  \\\n",
       "1                         1622     Sankranti  10-01-2024  16-01-2024   \n",
       "4                          272     Sankranti  10-01-2024  16-01-2024   \n",
       "7                           88     Sankranti  10-01-2024  16-01-2024   \n",
       "10                         963     Sankranti  10-01-2024  16-01-2024   \n",
       "11                          46     Sankranti  10-01-2024  16-01-2024   \n",
       "\n",
       "                                 product_name           category        city  \n",
       "1                Atliq_Farm_Chakki_Atta (1KG)  Grocery & Staples     Chennai  \n",
       "4        Atliq_Home_Essential_8_Product_Combo             Combo1   Hyderabad  \n",
       "7                   Atliq_Double_Bedsheet_set          Home Care  Vijayawada  \n",
       "10                    Atliq_Suflower_Oil (1L)  Grocery & Staples   Bengaluru  \n",
       "11  Atliq_Body_Milk_Nourishing_Lotion (120ML)      Personal Care  Coimbatore  "
      ]
     },
     "execution_count": 24,
     "metadata": {},
     "output_type": "execute_result"
    }
   ],
   "source": [
    "sankranti_df = merge_df[merge_df['campaign_name'] == 'Sankranti'].copy()\n",
    "sankranti_df.head()"
   ]
  },
  {
   "cell_type": "code",
   "execution_count": 25,
   "id": "2e8b5610",
   "metadata": {},
   "outputs": [],
   "source": [
    "# Calculate revenue before and after promotion\n",
    "sankranti_df['revenue_before_promo'] = sankranti_df[\"base_price(before_promo)\"] * sankranti_df['quantity_sold(before_promo)'] \n",
    "sankranti_df['revenue_after_promo'] = sankranti_df['base_price(after_promo)'] * sankranti_df['quantity_sold(after_promo)']\n",
    "\n",
    "# Group by product_code to aggregate total revenue before and after promo\n",
    "grouped_sankranti_revenue = sankranti_df.groupby('product_code').agg({\n",
    "    'revenue_before_promo': 'sum',\n",
    "    'revenue_after_promo': 'sum'\n",
    "}).reset_index()\n",
    "\n",
    "\n",
    "# Calculate IR% at the product level\n",
    "grouped_sankranti_revenue['IR%'] = ((grouped_sankranti_revenue['revenue_after_promo'] - grouped_sankranti_revenue['revenue_before_promo']) / grouped_sankranti_revenue['revenue_before_promo']) * 100\n",
    "grouped_sankranti_revenue['IR%'] = grouped_sankranti_revenue['IR%'].apply(lambda x: round(x, 2))"
   ]
  },
  {
   "cell_type": "code",
   "execution_count": 26,
   "id": "cfae48f7",
   "metadata": {},
   "outputs": [],
   "source": [
    "# Merge with df_products to get product names\n",
    "grouped_sankranti_revenue_with_names = grouped_sankranti_revenue.merge(df_product, on='product_code')\n",
    "\n",
    "#sort\n",
    "grouped_sankranti_revenue_with_names = grouped_sankranti_revenue_with_names.sort_values(by='IR%', ascending=False)"
   ]
  },
  {
   "cell_type": "code",
   "execution_count": 27,
   "id": "b6534526",
   "metadata": {},
   "outputs": [
    {
     "data": {
      "text/html": [
       "<div>\n",
       "<style scoped>\n",
       "    .dataframe tbody tr th:only-of-type {\n",
       "        vertical-align: middle;\n",
       "    }\n",
       "\n",
       "    .dataframe tbody tr th {\n",
       "        vertical-align: top;\n",
       "    }\n",
       "\n",
       "    .dataframe thead th {\n",
       "        text-align: right;\n",
       "    }\n",
       "</style>\n",
       "<table border=\"1\" class=\"dataframe\">\n",
       "  <thead>\n",
       "    <tr style=\"text-align: right;\">\n",
       "      <th></th>\n",
       "      <th>IR%</th>\n",
       "      <th>product_name</th>\n",
       "    </tr>\n",
       "  </thead>\n",
       "  <tbody>\n",
       "    <tr>\n",
       "      <th>2</th>\n",
       "      <td>91.83</td>\n",
       "      <td>Atliq_Suflower_Oil (1L)</td>\n",
       "    </tr>\n",
       "  </tbody>\n",
       "</table>\n",
       "</div>"
      ],
      "text/plain": [
       "     IR%             product_name\n",
       "2  91.83  Atliq_Suflower_Oil (1L)"
      ]
     },
     "execution_count": 27,
     "metadata": {},
     "output_type": "execute_result"
    }
   ],
   "source": [
    "grouped_sankranti_revenue_with_names[['IR%','product_name']][:1]"
   ]
  },
  {
   "cell_type": "markdown",
   "id": "47fca851",
   "metadata": {},
   "source": [
    "**9. Which store in Visakhapatnam recorded the lowest Incremental Sold Units\n",
    "Percentage (ISU%) during the Diwali campaign? What is the ISU% for that\n",
    "store?**"
   ]
  },
  {
   "cell_type": "code",
   "execution_count": 28,
   "id": "4edc8dad",
   "metadata": {},
   "outputs": [
    {
     "data": {
      "text/html": [
       "<div>\n",
       "<style scoped>\n",
       "    .dataframe tbody tr th:only-of-type {\n",
       "        vertical-align: middle;\n",
       "    }\n",
       "\n",
       "    .dataframe tbody tr th {\n",
       "        vertical-align: top;\n",
       "    }\n",
       "\n",
       "    .dataframe thead th {\n",
       "        text-align: right;\n",
       "    }\n",
       "</style>\n",
       "<table border=\"1\" class=\"dataframe\">\n",
       "  <thead>\n",
       "    <tr style=\"text-align: right;\">\n",
       "      <th></th>\n",
       "      <th>event_id</th>\n",
       "      <th>store_id</th>\n",
       "      <th>campaign_id</th>\n",
       "      <th>product_code</th>\n",
       "      <th>base_price(before_promo)</th>\n",
       "      <th>quantity_sold(before_promo)</th>\n",
       "      <th>promo_type</th>\n",
       "      <th>base_price(after_promo)</th>\n",
       "      <th>quantity_sold(after_promo)</th>\n",
       "      <th>campaign_name</th>\n",
       "      <th>start_date</th>\n",
       "      <th>end_date</th>\n",
       "      <th>product_name</th>\n",
       "      <th>category</th>\n",
       "      <th>city</th>\n",
       "    </tr>\n",
       "  </thead>\n",
       "  <tbody>\n",
       "    <tr>\n",
       "      <th>27</th>\n",
       "      <td>ba86f4</td>\n",
       "      <td>STVSK-1</td>\n",
       "      <td>CAMP_DIW_01</td>\n",
       "      <td>P13</td>\n",
       "      <td>350</td>\n",
       "      <td>61.0</td>\n",
       "      <td>BOGOF</td>\n",
       "      <td>175</td>\n",
       "      <td>204</td>\n",
       "      <td>Diwali</td>\n",
       "      <td>12-11-2023</td>\n",
       "      <td>18-11-2023</td>\n",
       "      <td>Atliq_High_Glo_15W_LED_Bulb</td>\n",
       "      <td>Home Appliances</td>\n",
       "      <td>Visakhapatnam</td>\n",
       "    </tr>\n",
       "    <tr>\n",
       "      <th>64</th>\n",
       "      <td>9779b0</td>\n",
       "      <td>STVSK-2</td>\n",
       "      <td>CAMP_DIW_01</td>\n",
       "      <td>P10</td>\n",
       "      <td>65</td>\n",
       "      <td>85.0</td>\n",
       "      <td>50% OFF</td>\n",
       "      <td>32</td>\n",
       "      <td>128</td>\n",
       "      <td>Diwali</td>\n",
       "      <td>12-11-2023</td>\n",
       "      <td>18-11-2023</td>\n",
       "      <td>Atliq_Cream_Beauty_Bathing_Soap (125GM)</td>\n",
       "      <td>Personal Care</td>\n",
       "      <td>Visakhapatnam</td>\n",
       "    </tr>\n",
       "    <tr>\n",
       "      <th>88</th>\n",
       "      <td>85e08f</td>\n",
       "      <td>STVSK-4</td>\n",
       "      <td>CAMP_DIW_01</td>\n",
       "      <td>P08</td>\n",
       "      <td>1190</td>\n",
       "      <td>50.0</td>\n",
       "      <td>BOGOF</td>\n",
       "      <td>595</td>\n",
       "      <td>152</td>\n",
       "      <td>Diwali</td>\n",
       "      <td>12-11-2023</td>\n",
       "      <td>18-11-2023</td>\n",
       "      <td>Atliq_Double_Bedsheet_set</td>\n",
       "      <td>Home Care</td>\n",
       "      <td>Visakhapatnam</td>\n",
       "    </tr>\n",
       "    <tr>\n",
       "      <th>102</th>\n",
       "      <td>ffb109</td>\n",
       "      <td>STVSK-2</td>\n",
       "      <td>CAMP_DIW_01</td>\n",
       "      <td>P15</td>\n",
       "      <td>3000</td>\n",
       "      <td>204.0</td>\n",
       "      <td>500 Cashback</td>\n",
       "      <td>2500</td>\n",
       "      <td>589</td>\n",
       "      <td>Diwali</td>\n",
       "      <td>12-11-2023</td>\n",
       "      <td>18-11-2023</td>\n",
       "      <td>Atliq_Home_Essential_8_Product_Combo</td>\n",
       "      <td>Combo1</td>\n",
       "      <td>Visakhapatnam</td>\n",
       "    </tr>\n",
       "    <tr>\n",
       "      <th>108</th>\n",
       "      <td>a80b87</td>\n",
       "      <td>STVSK-0</td>\n",
       "      <td>CAMP_DIW_01</td>\n",
       "      <td>P11</td>\n",
       "      <td>190</td>\n",
       "      <td>49.0</td>\n",
       "      <td>50% OFF</td>\n",
       "      <td>95</td>\n",
       "      <td>76</td>\n",
       "      <td>Diwali</td>\n",
       "      <td>12-11-2023</td>\n",
       "      <td>18-11-2023</td>\n",
       "      <td>Atliq_Doodh_Kesar_Body_Lotion (200ML)</td>\n",
       "      <td>Personal Care</td>\n",
       "      <td>Visakhapatnam</td>\n",
       "    </tr>\n",
       "  </tbody>\n",
       "</table>\n",
       "</div>"
      ],
      "text/plain": [
       "    event_id store_id  campaign_id product_code  base_price(before_promo)  \\\n",
       "27    ba86f4  STVSK-1  CAMP_DIW_01          P13                       350   \n",
       "64    9779b0  STVSK-2  CAMP_DIW_01          P10                        65   \n",
       "88    85e08f  STVSK-4  CAMP_DIW_01          P08                      1190   \n",
       "102   ffb109  STVSK-2  CAMP_DIW_01          P15                      3000   \n",
       "108   a80b87  STVSK-0  CAMP_DIW_01          P11                       190   \n",
       "\n",
       "     quantity_sold(before_promo)    promo_type  base_price(after_promo)  \\\n",
       "27                          61.0         BOGOF                      175   \n",
       "64                          85.0       50% OFF                       32   \n",
       "88                          50.0         BOGOF                      595   \n",
       "102                        204.0  500 Cashback                     2500   \n",
       "108                         49.0       50% OFF                       95   \n",
       "\n",
       "     quantity_sold(after_promo) campaign_name  start_date    end_date  \\\n",
       "27                          204        Diwali  12-11-2023  18-11-2023   \n",
       "64                          128        Diwali  12-11-2023  18-11-2023   \n",
       "88                          152        Diwali  12-11-2023  18-11-2023   \n",
       "102                         589        Diwali  12-11-2023  18-11-2023   \n",
       "108                          76        Diwali  12-11-2023  18-11-2023   \n",
       "\n",
       "                                product_name         category           city  \n",
       "27               Atliq_High_Glo_15W_LED_Bulb  Home Appliances  Visakhapatnam  \n",
       "64   Atliq_Cream_Beauty_Bathing_Soap (125GM)    Personal Care  Visakhapatnam  \n",
       "88                 Atliq_Double_Bedsheet_set        Home Care  Visakhapatnam  \n",
       "102     Atliq_Home_Essential_8_Product_Combo           Combo1  Visakhapatnam  \n",
       "108    Atliq_Doodh_Kesar_Body_Lotion (200ML)    Personal Care  Visakhapatnam  "
      ]
     },
     "execution_count": 28,
     "metadata": {},
     "output_type": "execute_result"
    }
   ],
   "source": [
    "diwali_df = merge_df[(merge_df['campaign_name'] == 'Diwali') & (merge_df['city'] == 'Visakhapatnam')].copy()\n",
    "diwali_df.head()"
   ]
  },
  {
   "cell_type": "code",
   "execution_count": 29,
   "id": "e0b2671d",
   "metadata": {},
   "outputs": [],
   "source": [
    "grouped = diwali_df.groupby('store_id').agg(\n",
    "    total_quantity_sold_before_promo=('quantity_sold(before_promo)', 'sum'),\n",
    "    total_quantity_sold_after_promo=('quantity_sold(after_promo)', 'sum')\n",
    ").reset_index()"
   ]
  },
  {
   "cell_type": "code",
   "execution_count": 30,
   "id": "998c94e7",
   "metadata": {},
   "outputs": [
    {
     "data": {
      "text/plain": [
       "store_id                            STVSK-3\n",
       "total_quantity_sold_before_promo     1780.0\n",
       "total_quantity_sold_after_promo        2656\n",
       "ISU%                                  49.21\n",
       "Name: 3, dtype: object"
      ]
     },
     "execution_count": 30,
     "metadata": {},
     "output_type": "execute_result"
    }
   ],
   "source": [
    "grouped['ISU%'] = ((grouped['total_quantity_sold_after_promo'] - grouped['total_quantity_sold_before_promo']) / grouped['total_quantity_sold_before_promo']) * 100\n",
    "grouped['ISU%'] = grouped['ISU%'].apply(lambda x: round(x, 2))\n",
    "grouped.loc[grouped['ISU%'].idxmin()]"
   ]
  },
  {
   "cell_type": "markdown",
   "id": "86bd51e3",
   "metadata": {},
   "source": [
    "**10. Which promo type had both a negative Incremental Revenue Percentage (IR%)\n",
    "and Incremental Sold Units Percentage (ISU%) during the Sankranti campaign?**"
   ]
  },
  {
   "cell_type": "code",
   "execution_count": 31,
   "id": "19846e29",
   "metadata": {},
   "outputs": [
    {
     "name": "stdout",
     "output_type": "stream",
     "text": [
      "  promo_type    IR%  ISU%\n",
      "0    25% OFF -39.33 -19.6\n"
     ]
    }
   ],
   "source": [
    "sankranti_df = merge_df[merge_df['campaign_name'] == 'Sankranti'].copy()\n",
    "sankranti_df['revenue_before_promo'] = sankranti_df['base_price(before_promo)'] * sankranti_df['quantity_sold(before_promo)']\n",
    "sankranti_df['revenue_after_promo'] = sankranti_df['base_price(after_promo)'] * sankranti_df['quantity_sold(after_promo)']\n",
    "\n",
    "grouped_promo = sankranti_df.groupby('promo_type').agg({\n",
    "    'revenue_before_promo': 'sum',\n",
    "    'revenue_after_promo': 'sum',\n",
    "    'quantity_sold(before_promo)': 'sum',\n",
    "    'quantity_sold(after_promo)': 'sum'\n",
    "}).reset_index()\n",
    "\n",
    "# Incremental Revenue %\n",
    "grouped_promo['IR%'] = ((grouped_promo['revenue_after_promo'] - grouped_promo['revenue_before_promo']) \n",
    "                        / grouped_promo['revenue_before_promo']) * 100\n",
    "\n",
    "# Incremental Sold Units %\n",
    "grouped_promo['ISU%'] = ((grouped_promo['quantity_sold(after_promo)'] - grouped_promo['quantity_sold(before_promo)']) \n",
    "                         / grouped_promo['quantity_sold(before_promo)']) * 100\n",
    "\n",
    "# Round for clarity\n",
    "grouped_promo['IR%'] = grouped_promo['IR%'].round(2)\n",
    "grouped_promo['ISU%'] = grouped_promo['ISU%'].round(2)\n",
    "\n",
    "negative_promo = grouped_promo[(grouped_promo['IR%'] < 0) & (grouped_promo['ISU%'] < 0)]\n",
    "\n",
    "print(negative_promo[['promo_type', 'IR%', 'ISU%']])\n"
   ]
  },
  {
   "cell_type": "markdown",
   "id": "869ae533",
   "metadata": {},
   "source": [
    "# Task-2"
   ]
  },
  {
   "cell_type": "code",
   "execution_count": 32,
   "id": "f8b6fd5f",
   "metadata": {},
   "outputs": [],
   "source": [
    "import matplotlib.pyplot as plt\n",
    "import seaborn as sns\n"
   ]
  },
  {
   "cell_type": "markdown",
   "id": "640c4b2c",
   "metadata": {},
   "source": [
    "**1. Visualize the number of stores in each city. Identify the city with the most stores\n",
    "and explain the distribution of stores across other cities. How does the number of\n",
    "stores in Bengaluru compare with those in Hyderabad and Chennai?\n",
    "(Hint: Use a bar chart to visualize the number of stores by city)**"
   ]
  },
  {
   "cell_type": "code",
   "execution_count": 33,
   "id": "4011183a",
   "metadata": {},
   "outputs": [
    {
     "data": {
      "text/html": [
       "<div>\n",
       "<style scoped>\n",
       "    .dataframe tbody tr th:only-of-type {\n",
       "        vertical-align: middle;\n",
       "    }\n",
       "\n",
       "    .dataframe tbody tr th {\n",
       "        vertical-align: top;\n",
       "    }\n",
       "\n",
       "    .dataframe thead th {\n",
       "        text-align: right;\n",
       "    }\n",
       "</style>\n",
       "<table border=\"1\" class=\"dataframe\">\n",
       "  <thead>\n",
       "    <tr style=\"text-align: right;\">\n",
       "      <th></th>\n",
       "      <th>city</th>\n",
       "      <th>store_id</th>\n",
       "    </tr>\n",
       "  </thead>\n",
       "  <tbody>\n",
       "    <tr>\n",
       "      <th>0</th>\n",
       "      <td>Bengaluru</td>\n",
       "      <td>10</td>\n",
       "    </tr>\n",
       "    <tr>\n",
       "      <th>1</th>\n",
       "      <td>Chennai</td>\n",
       "      <td>8</td>\n",
       "    </tr>\n",
       "    <tr>\n",
       "      <th>3</th>\n",
       "      <td>Hyderabad</td>\n",
       "      <td>7</td>\n",
       "    </tr>\n",
       "    <tr>\n",
       "      <th>2</th>\n",
       "      <td>Coimbatore</td>\n",
       "      <td>5</td>\n",
       "    </tr>\n",
       "    <tr>\n",
       "      <th>9</th>\n",
       "      <td>Visakhapatnam</td>\n",
       "      <td>5</td>\n",
       "    </tr>\n",
       "    <tr>\n",
       "      <th>4</th>\n",
       "      <td>Madurai</td>\n",
       "      <td>4</td>\n",
       "    </tr>\n",
       "    <tr>\n",
       "      <th>6</th>\n",
       "      <td>Mysuru</td>\n",
       "      <td>4</td>\n",
       "    </tr>\n",
       "    <tr>\n",
       "      <th>5</th>\n",
       "      <td>Mangalore</td>\n",
       "      <td>3</td>\n",
       "    </tr>\n",
       "    <tr>\n",
       "      <th>7</th>\n",
       "      <td>Trivandrum</td>\n",
       "      <td>2</td>\n",
       "    </tr>\n",
       "    <tr>\n",
       "      <th>8</th>\n",
       "      <td>Vijayawada</td>\n",
       "      <td>2</td>\n",
       "    </tr>\n",
       "  </tbody>\n",
       "</table>\n",
       "</div>"
      ],
      "text/plain": [
       "            city  store_id\n",
       "0      Bengaluru        10\n",
       "1        Chennai         8\n",
       "3      Hyderabad         7\n",
       "2     Coimbatore         5\n",
       "9  Visakhapatnam         5\n",
       "4        Madurai         4\n",
       "6         Mysuru         4\n",
       "5      Mangalore         3\n",
       "7     Trivandrum         2\n",
       "8     Vijayawada         2"
      ]
     },
     "execution_count": 33,
     "metadata": {},
     "output_type": "execute_result"
    }
   ],
   "source": [
    "city_store_counts = merge_df_new.groupby('city')['store_id'].nunique().reset_index()\n",
    "city_store_counts = city_store_counts.sort_values('store_id', ascending=False)\n",
    "city_store_counts\n"
   ]
  },
  {
   "cell_type": "code",
   "execution_count": 34,
   "id": "81b10ea0",
   "metadata": {},
   "outputs": [
    {
     "data": {
      "image/png": "[encoded data removed]",
      "text/plain": [
       "<Figure size 1000x600 with 1 Axes>"
      ]
     },
     "metadata": {},
     "output_type": "display_data"
    }
   ],
   "source": [
    "\n",
    "\n",
    "plt.figure(figsize=(10,6))\n",
    "bars = plt.bar(city_store_counts['city'], city_store_counts['store_id'], color='skyblue')\n",
    "\n",
    "# Highlight Bengaluru, Hyderabad, Chennai\n",
    "highlight_cities = ['Bengaluru', 'Hyderabad', 'Chennai']\n",
    "for i, city in enumerate(city_store_counts['city']):\n",
    "    if city in highlight_cities:\n",
    "        bars[i].set_color('orange')\n",
    "\n",
    "plt.title(\"Number of Stores by City\")\n",
    "plt.xlabel(\"City\")\n",
    "plt.ylabel(\"Number of Stores\")\n",
    "plt.xticks(rotation=45)\n",
    "plt.show()\n"
   ]
  },
  {
   "cell_type": "markdown",
   "id": "92642d20",
   "metadata": {},
   "source": [
    "**Number of Store Across Cities**\n",
    "\n",
    "Insights:\n",
    "\n",
    "- Bengaluru has the highest number of stores with 10 stores, followed by Chennai and Hyderabad having 8 and 7.\n",
    "- Vijayawada and Trivandrum have the least number of stores with 2 in each.\n"
   ]
  },
  {
   "cell_type": "markdown",
   "id": "fd55b677",
   "metadata": {},
   "source": [
    "**2. Analyze the total quantity sold after promotion for the Sankranti campaign across\n",
    "different product categories. What percentage does each category contribute to\n",
    "the overall sales, and what insights can be drawn from these contributions?\n",
    "(Hint: Use a pie chart to visualize percentage contribution of each category to the overall sales)**"
   ]
  },
  {
   "cell_type": "code",
   "execution_count": 35,
   "id": "bf41be2a",
   "metadata": {},
   "outputs": [
    {
     "data": {
      "text/html": [
       "<div>\n",
       "<style scoped>\n",
       "    .dataframe tbody tr th:only-of-type {\n",
       "        vertical-align: middle;\n",
       "    }\n",
       "\n",
       "    .dataframe tbody tr th {\n",
       "        vertical-align: top;\n",
       "    }\n",
       "\n",
       "    .dataframe thead th {\n",
       "        text-align: right;\n",
       "    }\n",
       "</style>\n",
       "<table border=\"1\" class=\"dataframe\">\n",
       "  <thead>\n",
       "    <tr style=\"text-align: right;\">\n",
       "      <th></th>\n",
       "      <th>category</th>\n",
       "      <th>quantity_sold(after_promo)</th>\n",
       "      <th>percentage</th>\n",
       "    </tr>\n",
       "  </thead>\n",
       "  <tbody>\n",
       "    <tr>\n",
       "      <th>1</th>\n",
       "      <td>Grocery &amp; Staples</td>\n",
       "      <td>177724</td>\n",
       "      <td>70.51</td>\n",
       "    </tr>\n",
       "    <tr>\n",
       "      <th>2</th>\n",
       "      <td>Home Appliances</td>\n",
       "      <td>35610</td>\n",
       "      <td>14.13</td>\n",
       "    </tr>\n",
       "    <tr>\n",
       "      <th>3</th>\n",
       "      <td>Home Care</td>\n",
       "      <td>16894</td>\n",
       "      <td>6.70</td>\n",
       "    </tr>\n",
       "    <tr>\n",
       "      <th>0</th>\n",
       "      <td>Combo1</td>\n",
       "      <td>12411</td>\n",
       "      <td>4.92</td>\n",
       "    </tr>\n",
       "    <tr>\n",
       "      <th>4</th>\n",
       "      <td>Personal Care</td>\n",
       "      <td>9430</td>\n",
       "      <td>3.74</td>\n",
       "    </tr>\n",
       "  </tbody>\n",
       "</table>\n",
       "</div>"
      ],
      "text/plain": [
       "            category  quantity_sold(after_promo)  percentage\n",
       "1  Grocery & Staples                      177724       70.51\n",
       "2    Home Appliances                       35610       14.13\n",
       "3          Home Care                       16894        6.70\n",
       "0             Combo1                       12411        4.92\n",
       "4      Personal Care                        9430        3.74"
      ]
     },
     "execution_count": 35,
     "metadata": {},
     "output_type": "execute_result"
    }
   ],
   "source": [
    "sankranti_df = merge_df_new[merge_df_new['campaign_name'] == 'Sankranti'].copy()\n",
    "category_sales = sankranti_df.groupby('category')['quantity_sold(after_promo)'].sum().reset_index()\n",
    "total_sales = category_sales['quantity_sold(after_promo)'].sum()\n",
    "category_sales['percentage'] = (category_sales['quantity_sold(after_promo)'] / total_sales) * 100\n",
    "category_sales['percentage'] = category_sales['percentage'].round(2)\n",
    "category_sales = category_sales.sort_values('percentage', ascending=False)\n",
    "category_sales\n",
    " "
   ]
  },
  {
   "cell_type": "code",
   "execution_count": 36,
   "id": "7947f69d",
   "metadata": {},
   "outputs": [
    {
     "data": {
      "image/png": "[encoded data removed]",
      "text/plain": [
       "<Figure size 600x600 with 1 Axes>"
      ]
     },
     "metadata": {},
     "output_type": "display_data"
    }
   ],
   "source": [
    "plt.figure(figsize=(6,6))\n",
    "colors = sns.color_palette('pastel')[0:len(category_sales)]\n",
    "plt.pie(category_sales['percentage'], labels=category_sales['category'], colors=colors, autopct='%1.1f%%', startangle=140)\n",
    "plt.title(\"Percentage Contribution of Each Category to Overall Sales (Sankranti Campaign)\")\n",
    "plt.axis('equal')  # Equal aspect ratio ensures that pie is drawn as a circle.\n",
    "plt.show() "
   ]
  },
  {
   "cell_type": "markdown",
   "id": "88256a07",
   "metadata": {},
   "source": [
    "**total quantity sold after promotion for the Sankranti campaign across\n",
    "different product categories**\n",
    "\n",
    "Insights:\n",
    "\n",
    "The data reveals that sales were heavily dominated by one primary category, with others contributing significantly smaller shares.\n",
    "\n",
    "* **Grocery & Staples:** This was the largest contributor by a wide margin, accounting for `70.5%` of total sales.\n",
    "* **Home Appliances:** The second-largest category was `14.1%`.\n",
    "* **Home Care:** This category contributed `6.7%`.\n",
    "* **Combo1:** This category made up `4.9%` of sales.\n",
    "* **Personal Care:** This was the smallest contributor, accounting for `3.7%` of the total sales."
   ]
  },
  {
   "cell_type": "markdown",
   "id": "b3a6355a",
   "metadata": {},
   "source": [
    "**3. Examine the correlation between base price (after the promotion) and sales\n",
    "quantities (after the promotion). What insights can be drawn regarding the\n",
    "relationship between base price and sales quantities after the promotion?\n",
    "(Hint: Use heatmap to get the correlation)**"
   ]
  },
  {
   "cell_type": "code",
   "execution_count": 37,
   "id": "2a3cd95c",
   "metadata": {},
   "outputs": [
    {
     "data": {
      "text/html": [
       "<div>\n",
       "<style scoped>\n",
       "    .dataframe tbody tr th:only-of-type {\n",
       "        vertical-align: middle;\n",
       "    }\n",
       "\n",
       "    .dataframe tbody tr th {\n",
       "        vertical-align: top;\n",
       "    }\n",
       "\n",
       "    .dataframe thead th {\n",
       "        text-align: right;\n",
       "    }\n",
       "</style>\n",
       "<table border=\"1\" class=\"dataframe\">\n",
       "  <thead>\n",
       "    <tr style=\"text-align: right;\">\n",
       "      <th></th>\n",
       "      <th>base_price(after_promo)</th>\n",
       "      <th>quantity_sold(after_promo)</th>\n",
       "    </tr>\n",
       "  </thead>\n",
       "  <tbody>\n",
       "    <tr>\n",
       "      <th>base_price(after_promo)</th>\n",
       "      <td>1.000000</td>\n",
       "      <td>-0.022748</td>\n",
       "    </tr>\n",
       "    <tr>\n",
       "      <th>quantity_sold(after_promo)</th>\n",
       "      <td>-0.022748</td>\n",
       "      <td>1.000000</td>\n",
       "    </tr>\n",
       "  </tbody>\n",
       "</table>\n",
       "</div>"
      ],
      "text/plain": [
       "                            base_price(after_promo)  \\\n",
       "base_price(after_promo)                    1.000000   \n",
       "quantity_sold(after_promo)                -0.022748   \n",
       "\n",
       "                            quantity_sold(after_promo)  \n",
       "base_price(after_promo)                      -0.022748  \n",
       "quantity_sold(after_promo)                    1.000000  "
      ]
     },
     "execution_count": 37,
     "metadata": {},
     "output_type": "execute_result"
    }
   ],
   "source": [
    "sankranti_df = merge_df_new[merge_df_new['campaign_name'] == 'Sankranti'].copy()\n",
    "corr_df = sankranti_df[['base_price(after_promo)', 'quantity_sold(after_promo)']]\n",
    "corr_matrix = corr_df.corr()\n",
    "corr_matrix\n"
   ]
  },
  {
   "cell_type": "code",
   "execution_count": 38,
   "id": "1b10b72f",
   "metadata": {},
   "outputs": [
    {
     "data": {
      "image/png": "[encoded data removed]",
      "text/plain": [
       "<Figure size 600x400 with 2 Axes>"
      ]
     },
     "metadata": {},
     "output_type": "display_data"
    }
   ],
   "source": [
    "plt.figure(figsize=(6,4))\n",
    "sns.heatmap(corr_matrix, annot=True, cmap=\"coolwarm\", fmt=\".2f\")\n",
    "plt.title(\"Correlation between Base Price and Sales Quantity (After Promo)\")\n",
    "plt.show()"
   ]
  },
  {
   "cell_type": "markdown",
   "id": "18423b6b",
   "metadata": {},
   "source": [
    "Weak Negative Correlation (-0.02)\n",
    "The correlation between base price and sales quantity after promotions is extremely weak at -0.02, which is essentially no meaningful relationship. This suggests that:"
   ]
  },
  {
   "cell_type": "markdown",
   "id": "6f4820ca",
   "metadata": {},
   "source": [
    "Key Insights:\n",
    "\n",
    "Price-Demand Relationship is Disrupted: Typically, you'd expect a stronger negative correlation between price and quantity sold (higher prices = lower sales). The near-zero correlation indicates that after promotions, this traditional economic relationship is largely absent.\n",
    "Promotion Effects Dominate: The promotional activities appear to be the primary driver of sales quantity, effectively masking or overriding the normal price sensitivity that customers would typically show.\n",
    "Pricing Strategy Implications: Since base price has minimal correlation with post-promotion sales, this suggests that:\n",
    "\n",
    "The promotion mechanism (discount amount, promotional strategy) is more influential than the underlying base price\n",
    "Customers may be more focused on the perceived value of the deal rather than the absolute final price\n",
    "\n",
    "\n",
    "Market Behavior: This pattern could indicate that customers in this market are highly promotion-responsive, meaning they're more likely to purchase based on the presence of a deal rather than the actual price point."
   ]
  },
  {
   "cell_type": "markdown",
   "id": "895e6f26",
   "metadata": {},
   "source": [
    "**5. Analyze the incremental sold units percentage (ISU%) across various cities.\n",
    "Identify the city with the highest ISU% after the promotion and the city with the\n",
    "smallest change. What trends can be observed about the effectiveness of\n",
    "codebasics.io\n",
    "promotions in driving sales across these cities?\n",
    "(Hint: Use a line chart to visualize the ISU% comparison across cities)**"
   ]
  },
  {
   "cell_type": "code",
   "execution_count": 40,
   "id": "486b504d",
   "metadata": {},
   "outputs": [
    {
     "name": "stdout",
     "output_type": "stream",
     "text": [
      "Highest ISU%: Madurai 121.28\n",
      "Smallest Change: Visakhapatnam 99.07\n"
     ]
    }
   ],
   "source": [
    "city_sales = merge_df_new.groupby('city').agg({\n",
    "    'quantity_sold(before_promo)': 'sum',\n",
    "    'quantity_sold(after_promo)': 'sum'\n",
    "}).reset_index()\n",
    "city_sales['ISU%'] = ((city_sales['quantity_sold(after_promo)'] - city_sales['quantity_sold(before_promo)']) /\n",
    "                       city_sales['quantity_sold(before_promo)']) * 100\n",
    "city_sales['ISU%'] = city_sales['ISU%'].round(2)\n",
    "highest_city = city_sales.loc[city_sales['ISU%'].idxmax()]\n",
    "smallest_city = city_sales.loc[city_sales['ISU%'].idxmin()]\n",
    "print(\"Highest ISU%:\", highest_city['city'], highest_city['ISU%'])\n",
    "print(\"Smallest Change:\", smallest_city['city'], smallest_city['ISU%'])\n"
   ]
  },
  {
   "cell_type": "code",
   "execution_count": 41,
   "id": "626f7051",
   "metadata": {},
   "outputs": [
    {
     "data": {
      "image/png": "[encoded data removed]",
      "text/plain": [
       "<Figure size 1000x600 with 1 Axes>"
      ]
     },
     "metadata": {},
     "output_type": "display_data"
    }
   ],
   "source": [
    "import matplotlib.pyplot as plt\n",
    "\n",
    "# Sort by ISU% for trend clarity\n",
    "city_sales = city_sales.sort_values('ISU%')\n",
    "\n",
    "plt.figure(figsize=(10,6))\n",
    "plt.plot(city_sales['city'], city_sales['ISU%'], marker='o', linestyle='-', color='teal')\n",
    "\n",
    "# Highlight highest and smallest\n",
    "plt.scatter(highest_city['city'], highest_city['ISU%'], color='green', s=100, label=\"Highest ISU%\")\n",
    "plt.scatter(smallest_city['city'], smallest_city['ISU%'], color='red', s=100, label=\"Smallest Change\")\n",
    "\n",
    "plt.title(\"ISU% Across Cities (Effectiveness of Promotions)\")\n",
    "plt.xlabel(\"City\")\n",
    "plt.ylabel(\"ISU%\")\n",
    "plt.xticks(rotation=45)\n",
    "plt.legend()\n",
    "plt.show()\n"
   ]
  },
  {
   "cell_type": "markdown",
   "id": "8b379934",
   "metadata": {},
   "source": [
    "Key Insights from ISU% Analysis:\n",
    "\n",
    "Highest & Lowest Performers:\n",
    "\n",
    "- Madurai shows the highest ISU% at ~121%, indicating promotions are most effective there\n",
    "Visakhapatnam has the smallest change with ISU% near baseline (~99%), showing minimal promotional impact\n",
    "\n",
    "Trends Observed:\n",
    "\n",
    "- Strong Geographic Variation: ISU% ranges from ~99% to 121%, showing significant differences in promotional effectiveness across cities\n",
    "- Generally Positive Response: Most cities show ISU% above 100%, indicating promotions are driving incremental sales across markets\n",
    "- Tier-2/Tier-3 Cities Outperform: Cities like Madurai, Bengaluru, and Coimbatore show higher ISU%, suggesting smaller markets may be more promotion-responsive than metro areas\n",
    "- Metro Market Saturation: Cities like Visakhapatnam show lower promotional lift, potentially indicating market saturation or higher baseline competition"
   ]
  },
  {
   "cell_type": "markdown",
   "id": "f69defd6",
   "metadata": {},
   "source": [
    "**6. Analyze the relationship between incremental revenue and incremental sold units\n",
    "for different promotion types in Hyderabad. Which promotion type led to the\n",
    "highest incremental sold units, and which one generated the highest incremental\n",
    "revenue? What insights can you draw from the balance between the two metrics\n",
    "for this city?\n",
    "(Hint: Use a scatter plot to analyze the relationship)**"
   ]
  },
  {
   "cell_type": "code",
   "execution_count": 42,
   "id": "6b389280",
   "metadata": {},
   "outputs": [],
   "source": [
    "hyd_df = merge_df_new[merge_df_new['city'] == 'Hyderabad'].copy()\n",
    "hyd_df['revenue_before'] = hyd_df['base_price(before_promo)'] * hyd_df['quantity_sold(before_promo)']\n",
    "hyd_df['revenue_after'] = hyd_df['base_price(after_promo)'] * hyd_df['quantity_sold(after_promo)']\n",
    "promo_summary = hyd_df.groupby('promo_type').agg({\n",
    "    'revenue_before': 'sum',\n",
    "    'revenue_after': 'sum',\n",
    "    'quantity_sold(before_promo)': 'sum',\n",
    "    'quantity_sold(after_promo)': 'sum'\n",
    "}).reset_index()\n",
    "promo_summary['IR%'] = ((promo_summary['revenue_after'] - promo_summary['revenue_before']) / promo_summary['revenue_before']) * 100\n",
    "promo_summary['ISU%'] = ((promo_summary['quantity_sold(after_promo)'] - promo_summary['quantity_sold(before_promo)']) / promo_summary['quantity_sold(before_promo)']) * 100\n",
    "\n",
    "promo_summary[['IR%', 'ISU%']] = promo_summary[['IR%', 'ISU%']].round(2)\n",
    "\n",
    "\n",
    "\n"
   ]
  },
  {
   "cell_type": "code",
   "execution_count": 43,
   "id": "24c5091d",
   "metadata": {},
   "outputs": [
    {
     "data": {
      "image/png": "[encoded data removed]",
      "text/plain": [
       "<Figure size 800x600 with 1 Axes>"
      ]
     },
     "metadata": {},
     "output_type": "display_data"
    }
   ],
   "source": [
    "import matplotlib.pyplot as plt\n",
    "\n",
    "plt.figure(figsize=(8,6))\n",
    "plt.scatter(promo_summary['ISU%'], promo_summary['IR%'], color='teal', s=100)\n",
    "\n",
    "# Annotate promo types\n",
    "for i, txt in enumerate(promo_summary['promo_type']):\n",
    "    plt.annotate(txt, (promo_summary['ISU%'][i], promo_summary['IR%'][i]), xytext=(5,5), textcoords='offset points')\n",
    "\n",
    "plt.axhline(0, color='gray', linestyle='--')\n",
    "plt.axvline(0, color='gray', linestyle='--')\n",
    "\n",
    "plt.title(\"Incremental Revenue vs Incremental Sold Units (Hyderabad)\")\n",
    "plt.xlabel(\"Incremental Sold Units % (ISU%)\")\n",
    "plt.ylabel(\"Incremental Revenue % (IR%)\")\n",
    "plt.show()\n"
   ]
  },
  {
   "cell_type": "markdown",
   "id": "a8c28b36",
   "metadata": {},
   "source": [
    "Key Findings from Hyderabad Analysis:\n",
    "**Highest Performers:**\n",
    "\n",
    "- Highest Incremental Sold Units: 500 Cashback (~175% ISU%)\n",
    "- Highest Incremental Revenue: 500 Cashback (~122% IR%)\n",
    "\n",
    "**Performance by Promotion Type:**\n",
    "\n",
    "- 500 Cashback: Best overall performance (high units + high revenue)\n",
    "- BOGOF: Moderate performance (~250% units, ~75% revenue)\n",
    "- 33% OFF: Break-even point (positive units, minimal revenue impact)\n",
    "- 25% OFF & 50% OFF: Negative performance (revenue loss despite some unit gains)\n",
    "\n",
    "Key Insights:\n",
    "\n",
    "- Cashback Dominates: 500 Cashback is the clear winner, driving both volume and revenue effectively\n",
    "- Discount Dilemma: Percentage-based discounts (25%, 33%, 50% OFF) show diminishing returns - higher discounts don't necessarily drive proportional revenue gains\n",
    "- BOGOF Sweet Spot: Buy-one-get-one-free generates strong unit movement but moderate revenue, suggesting good customer acquisition potential\n",
    "- Revenue-Volume Trade-off: Deep discounts increase units but hurt revenue, while cashback maintains profitability while driving sales\n",
    "\n",
    "**Recommendation:** Focus on cashback promotions in Hyderabad for optimal balance of volume and revenue growth."
   ]
  },
  {
   "cell_type": "markdown",
   "id": "96d85960",
   "metadata": {
    "vscode": {
     "languageId": "markdown"
    }
   },
   "source": [
    "**7. Analyze the revenue before and after promotions across different product\n",
    "categories in Bengaluru. What trends can be identified in the performance of\n",
    "each category, and how did promotions impact overall revenue in the city?\n",
    "(Hint: Use a vertical bar chart to compare the revenue before and after promotions)**"
   ]
  },
  {
   "cell_type": "code",
   "execution_count": 45,
   "id": "7164f063",
   "metadata": {},
   "outputs": [],
   "source": [
    "blr_df = merge_df_new[merge_df_new['city'] == 'Bengaluru'].copy()\n",
    "\n",
    "blr_df['revenue_before'] = blr_df['base_price(before_promo)'] * blr_df['quantity_sold(before_promo)']\n",
    "blr_df['revenue_after'] = blr_df['base_price(after_promo)'] * blr_df['quantity_sold(after_promo)']\n",
    "\n",
    "category_revenue = blr_df.groupby('category').agg({\n",
    "    'revenue_before': 'sum',\n",
    "    'revenue_after': 'sum'\n",
    "}).reset_index()\n"
   ]
  },
  {
   "cell_type": "code",
   "execution_count": 47,
   "id": "eb909573",
   "metadata": {},
   "outputs": [
    {
     "data": {
      "image/png": "[encoded data removed]",
      "text/plain": [
       "<Figure size 1000x600 with 1 Axes>"
      ]
     },
     "metadata": {},
     "output_type": "display_data"
    }
   ],
   "source": [
    "import matplotlib.pyplot as plt\n",
    "import numpy as np\n",
    "\n",
    "x = np.arange(len(category_revenue['category']))\n",
    "width = 0.35\n",
    "\n",
    "plt.figure(figsize=(10,6))\n",
    "plt.bar(x - width/2, category_revenue['revenue_before'], width, label='Before Promo', color='skyblue')\n",
    "plt.bar(x + width/2, category_revenue['revenue_after'], width, label='After Promo', color='orange')\n",
    "\n",
    "plt.xticks(x, category_revenue['category'], rotation=45)\n",
    "plt.ylabel(\"Revenue\")\n",
    "plt.title(\"Revenue Before vs After Promotions by Product Category (Bengaluru)\")\n",
    "plt.legend()\n",
    "plt.show()\n"
   ]
  },
  {
   "cell_type": "markdown",
   "id": "44ff5e8c",
   "metadata": {},
   "source": [
    "*Bengaluru Revenue Analysis Summary:*\n",
    "Top Performers:\n",
    "\n",
    "- Combo: Explosive 137% growth (₹16M → ₹38M)\n",
    "- Home Appliances: Strong 68% increase (₹2.5M → ₹4.2M)\n",
    "\n",
    "*Moderate Growth:*\n",
    "\n",
    "- Grocery & Staples: 10% rise (₹12.5M → ₹13.8M)\n",
    "- Home Care: 45% increase (₹2.2M → ₹3.2M)\n",
    "\n",
    "*Laggard:*\n",
    "\n",
    "- Personal Care: Minimal impact (~₹0.5M)\n",
    "\n",
    "*Key Takeaway:* Promotions drove overall revenue growth in Bengaluru, with bundle/combo products showing exceptional results. Category-specific promotional strategies needed for underperforming segments like Personal Care."
   ]
  }
 ],
 "metadata": {
  "kernelspec": {
   "display_name": "exp_venv",
   "language": "python",
   "name": "python3"
  },
  "language_info": {
   "codemirror_mode": {
    "name": "ipython",
    "version": 3
   },
   "file_extension": ".py",
   "mimetype": "text/x-python",
   "name": "python",
   "nbconvert_exporter": "python",
   "pygments_lexer": "ipython3",
   "version": "3.12.7"
  }
 },
 "nbformat": 4,
 "nbformat_minor": 5
}
